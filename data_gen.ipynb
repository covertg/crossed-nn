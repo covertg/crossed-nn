{
 "cells": [
  {
   "cell_type": "code",
   "execution_count": 1,
   "metadata": {},
   "outputs": [],
   "source": [
    "from crossing import data\n",
    "import pandas as pd\n",
    "\n",
    "n_forms = 7"
   ]
  },
  {
   "cell_type": "markdown",
   "metadata": {},
   "source": [
    "## Full dataset generation"
   ]
  },
  {
   "cell_type": "code",
   "execution_count": 2,
   "metadata": {},
   "outputs": [
    {
     "output_type": "stream",
     "name": "stdout",
     "text": "4801 data/sents1.tsv\n4801 data/sents2.tsv\n28801 data/sents3.tsv\n21601 data/sents4.tsv\n21601 data/sents5.tsv\n9601 data/sents6.tsv\n9601 data/sents7.tsv\n"
    }
   ],
   "source": [
    "# Read in templates and item-tuples\n",
    "templates = ['data/template%d.tsv' % (i+1) for i in range(n_forms)]\n",
    "templates = data.read_templates(*templates)\n",
    "\n",
    "items = data.read_items('data/items.tsv')\n",
    "\n",
    "for i, t in enumerate(templates):\n",
    "    intermediate, full = data.expand_template(items, t)\n",
    "    # Intermediate \"unexpanded\" sentences: are expanded on a given template but not on \"expanders\" in curly braces. Saved for posterity.\n",
    "    intermediate.to_csv('data/sents_intermediate%d.tsv' % (i+1), index=False, sep='\\t') \n",
    "    # Full \"expanded\" sentences: hecka sentences with varying connectives, prepositions, etc. Our experimental data.\n",
    "    full.to_csv('data/sents%d.tsv' % (i+1), index=False, sep='\\t')\n",
    "\n",
    "! for i in {1..7}; do wc -l data/sents$i.tsv; done"
   ]
  },
  {
   "cell_type": "markdown",
   "metadata": {},
   "source": [
    "## Small dataset for lm_1b"
   ]
  },
  {
   "cell_type": "code",
   "execution_count": 3,
   "metadata": {},
   "outputs": [
    {
     "output_type": "stream",
     "name": "stdout",
     "text": "801 data/small_sents1.tsv\n801 data/small_sents2.tsv\n1601 data/small_sents3.tsv\n1201 data/small_sents4.tsv\n1201 data/small_sents5.tsv\n1601 data/small_sents6.tsv\n1601 data/small_sents7.tsv\n"
    }
   ],
   "source": [
    "data.punct = (';') \n",
    "data.conn_summ, data.conn_contr = ['in short'], ['by contrast']\n",
    "data.connectives = data.conn_summ + data.conn_contr\n",
    "data.expanders = {\n",
    "    '{Prep}': ['Near'],\n",
    "    '{E/D}': ['This is'],\n",
    "    '{Comp}': ['that'],\n",
    "    '{Conn}': [p + ' ' + c + ', ' for c in data.connectives for p in data.punct]\n",
    "}\n",
    "\n",
    "\n",
    "templates = ['data/template%d.tsv' % (i+1) for i in range(n_forms)]\n",
    "templates = data.read_templates(*templates)\n",
    "items = data.read_items('data/items.tsv')\n",
    "\n",
    "for i, t in enumerate(templates):\n",
    "    intermediate, full = data.expand_template(items, t)\n",
    "    intermediate.to_csv('data/small_sents_intermediate%d.tsv' % (i+1), index=False, sep='\\t') \n",
    "    full.to_csv('data/small_sents%d.tsv' % (i+1), index=False, sep='\\t')\n",
    "\n",
    "! for i in {1..7}; do wc -l data/small_sents$i.tsv; done"
   ]
  }
 ],
 "metadata": {
  "kernelspec": {
   "display_name": "Python 3.8.2 64-bit ('venv': venv)",
   "language": "python",
   "name": "python38264bitvenvvenv3181ffefc85747bfb9f84936641d758d"
  },
  "language_info": {
   "codemirror_mode": {
    "name": "ipython",
    "version": 3
   },
   "file_extension": ".py",
   "mimetype": "text/x-python",
   "name": "python",
   "nbconvert_exporter": "python",
   "pygments_lexer": "ipython3",
   "version": "3.8.2-final"
  }
 },
 "nbformat": 4,
 "nbformat_minor": 2
}