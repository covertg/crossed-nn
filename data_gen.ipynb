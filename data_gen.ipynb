{
 "cells": [
  {
   "cell_type": "code",
   "execution_count": 5,
   "metadata": {},
   "outputs": [],
   "source": [
    "from crossing import data\n",
    "import pandas as pd"
   ]
  },
  {
   "cell_type": "code",
   "execution_count": 6,
   "metadata": {},
   "outputs": [],
   "source": [
    "n_forms = 7\n",
    "\n",
    "# Read in templates and item-tuples\n",
    "templates = ['data/template%d.tsv' % (i+1) for i in range(n_forms)]\n",
    "t_dfs = data.read_templates(*templates)\n",
    "items = data.read_items('data/items.tsv')\n",
    "\n",
    "for i, t in enumerate(t_dfs):\n",
    "    # Create intermediate \"unexpanded\" sentences\n",
    "    unexpanded_sentences = data.form_unexpanded_sentences(items, t)\n",
    "    unexpanded_sentences.to_csv('data/intermediate_sents%d.tsv' % (i+1), index=False, sep='\\t')  # TSV since the sentences may contain commas\n",
    "\n",
    "    # Create hecka sentences by expanding on \"expanders\" in curly braces\n",
    "    expanded_sentences = data.expand_sentences(unexpanded_sentences)\n",
    "    expanded_sentences.to_csv('data/sents%d.tsv' % (i+1), index=False, sep='\\t')"
   ]
  },
  {
   "cell_type": "markdown",
   "metadata": {},
   "source": [
    "### And there's our data!\n",
    "\n",
    "Formally counting the # of sentences.\n",
    "When done with just one tuple/item, the numbers are:\n",
    "\n",
    "188\n",
    "180\n",
    "1140\n",
    "574\n",
    "574\n",
    "372\n",
    "380\n",
    "\n",
    "So below should be 25x the above."
   ]
  },
  {
   "cell_type": "code",
   "execution_count": 7,
   "metadata": {},
   "outputs": [
    {
     "name": "stdout",
     "output_type": "stream",
     "text": [
      "4700\n",
      "4500\n",
      "28500\n",
      "14350\n",
      "14350\n",
      "9300\n",
      "9500\n"
     ]
    }
   ],
   "source": [
    "! i=1; a=$(fgrep -o \"|\" data/sents$i.tsv | wc -l); b=$(cat data/sents$i.tsv | wc -l); echo $((a + b - 1))\n",
    "! i=2; a=$(fgrep -o \"|\" data/sents$i.tsv | wc -l); b=$(cat data/sents$i.tsv | wc -l); echo $((a + b - 1))\n",
    "! i=3; a=$(fgrep -o \"|\" data/sents$i.tsv | wc -l); b=$(cat data/sents$i.tsv | wc -l); echo $((a + b - 1))\n",
    "! i=4; a=$(fgrep -o \"|\" data/sents$i.tsv | wc -l); b=$(cat data/sents$i.tsv | wc -l); echo $((a + b - 1))\n",
    "! i=5; a=$(fgrep -o \"|\" data/sents$i.tsv | wc -l); b=$(cat data/sents$i.tsv | wc -l); echo $((a + b - 1))\n",
    "! i=6; a=$(fgrep -o \"|\" data/sents$i.tsv | wc -l); b=$(cat data/sents$i.tsv | wc -l); echo $((a + b - 1))\n",
    "! i=7; a=$(fgrep -o \"|\" data/sents$i.tsv | wc -l); b=$(cat data/sents$i.tsv | wc -l); echo $((a + b - 1))"
   ]
  }
 ],
 "metadata": {
  "kernelspec": {
   "display_name": "Python 3.8.2 64-bit ('venv': venv)",
   "language": "python",
   "name": "python38264bitvenvvenv3181ffefc85747bfb9f84936641d758d"
  },
  "language_info": {
   "codemirror_mode": {
    "name": "ipython",
    "version": 3
   },
   "file_extension": ".py",
   "mimetype": "text/x-python",
   "name": "python",
   "nbconvert_exporter": "python",
   "pygments_lexer": "ipython3",
   "version": "3.8.2"
  }
 },
 "nbformat": 4,
 "nbformat_minor": 2
}
