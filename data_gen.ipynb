{
 "cells": [
  {
   "cell_type": "code",
   "execution_count": 3,
   "metadata": {},
   "outputs": [],
   "source": [
    "from crossing import data\n",
    "import pandas as pd"
   ]
  },
  {
   "cell_type": "code",
   "execution_count": 7,
   "metadata": {},
   "outputs": [],
   "source": [
    "n_forms = 7\n",
    "\n",
    "# Read in templates and item-tuples\n",
    "templates = ['data/template%d.tsv' % (i+1) for i in range(n_forms)]\n",
    "templates = data.read_templates(*templates)\n",
    "items = data.read_items('data/items.tsv')\n",
    "\n",
    "for i, t in enumerate(templates):\n",
    "    intermediate, full = data.expand_template(items, t)\n",
    "    # Intermediate \"unexpanded\" sentences: are expanded on a given template but not on \"expanders\" in curly braces. Saved for posterity.\n",
    "    intermediate.to_csv('data/sents_intermediate%d.tsv' % (i+1), index=False, sep='\\t') \n",
    "    # Full \"expanded\" sentences: hecka sentences with varying connectives, prepositions, etc. Our experimental data.\n",
    "    full.to_csv('data/sents%d.tsv' % (i+1), index=False, sep='\\t')"
   ]
  },
  {
   "cell_type": "markdown",
   "metadata": {},
   "source": [
    "### And there's our data!\n",
    "\n",
    "Formally counting the # of sentences:"
   ]
  },
  {
   "cell_type": "code",
   "execution_count": 10,
   "metadata": {},
   "outputs": [
    {
     "name": "stdout",
     "output_type": "stream",
     "text": [
      "4801 data/sents1.tsv\r\n",
      "4801 data/sents2.tsv\r\n",
      "28801 data/sents3.tsv\r\n",
      "21601 data/sents4.tsv\r\n",
      "21601 data/sents5.tsv\r\n",
      "9601 data/sents6.tsv\r\n",
      "9601 data/sents7.tsv\r\n"
     ]
    }
   ],
   "source": [
    "! for i in {1..7}; do wc -l data/sents$i.tsv; done"
   ]
  }
 ],
 "metadata": {
  "kernelspec": {
   "display_name": "Python 3.8.2 64-bit ('venv': venv)",
   "language": "python",
   "name": "python38264bitvenvvenv3181ffefc85747bfb9f84936641d758d"
  },
  "language_info": {
   "codemirror_mode": {
    "name": "ipython",
    "version": 3
   },
   "file_extension": ".py",
   "mimetype": "text/x-python",
   "name": "python",
   "nbconvert_exporter": "python",
   "pygments_lexer": "ipython3",
   "version": "3.8.2"
  }
 },
 "nbformat": 4,
 "nbformat_minor": 2
}
