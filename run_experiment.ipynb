{
 "cells": [
  {
   "cell_type": "code",
   "execution_count": 1,
   "metadata": {},
   "outputs": [],
   "source": [
    "from crossing import data, experiment, gpt2\n",
    "import datetime"
   ]
  },
  {
   "cell_type": "markdown",
   "metadata": {},
   "source": [
    "## GPT-2 Experiments"
   ]
  },
  {
   "cell_type": "code",
   "execution_count": 2,
   "metadata": {
    "tags": [
     "outputPrepend"
    ]
   },
   "outputs": [
    {
     "name": "stdout",
     "output_type": "stream",
     "text": [
      "Loaded model and tokenizer for GPT-2\n",
      "[Start]\t Experiment 1\t 10:44:08.306817\n",
      "[End]\t Experiment 1\t 10:53:49.163199\n",
      "[Start]\t Experiment 2\t 10:53:49.163311\n",
      "[End]\t Experiment 2\t 11:02:54.744319\n",
      "[Start]\t Experiment 3\t 11:02:54.744703\n",
      "[End]\t Experiment 3\t 11:52:40.651332\n",
      "[Start]\t Experiment 4\t 11:52:40.651493\n",
      "[End]\t Experiment 4\t 12:18:12.302030\n",
      "[Start]\t Experiment 5\t 12:18:12.302121\n",
      "[End]\t Experiment 5\t 12:35:13.342949\n",
      "[Start]\t Experiment 6\t 12:35:13.343054\n",
      "[End]\t Experiment 6\t 12:45:59.567655\n",
      "[Start]\t Experiment 7\t 12:45:59.567743\n",
      "[End]\t Experiment 7\t 12:56:45.954785\n"
     ]
    }
   ],
   "source": [
    "# Load model\n",
    "model_fn = gpt2.get_model_fn()\n",
    "\n",
    "# Run all experiments.\n",
    "n_forms = 7\n",
    "for i in range(7):\n",
    "    print('[Start]\\t Experiment {}\\t {}'.format(i+1, datetime.datetime.now().time()))\n",
    "    inputs = data.read_sents('data/sents%d.tsv' % (i+1))\n",
    "    experiment.run_experiment(inputs, model_fn, outfile='data/results_GPT2-%d.tsv' % (i+1))\n",
    "    print('[End]\\t Experiment {}\\t {}'.format(i+1, datetime.datetime.now().time()))"
   ]
  }
 ],
 "metadata": {
  "kernelspec": {
   "display_name": "Python 3.8.2 64-bit ('venv': venv)",
   "language": "python",
   "name": "python38264bitvenvvenv3181ffefc85747bfb9f84936641d758d"
  },
  "language_info": {
   "codemirror_mode": {
    "name": "ipython",
    "version": 3
   },
   "file_extension": ".py",
   "mimetype": "text/x-python",
   "name": "python",
   "nbconvert_exporter": "python",
   "pygments_lexer": "ipython3",
   "version": "3.8.2"
  }
 },
 "nbformat": 4,
 "nbformat_minor": 2
}
