{
 "cells": [
  {
   "cell_type": "code",
   "execution_count": 4,
   "metadata": {},
   "outputs": [],
   "source": [
    "from crossing import experiment\n",
    "n_forms = 7"
   ]
  },
  {
   "cell_type": "markdown",
   "metadata": {},
   "source": [
    "## GPT-2 Experiments"
   ]
  },
  {
   "cell_type": "code",
   "execution_count": 2,
   "metadata": {},
   "outputs": [
    {
     "name": "stdout",
     "output_type": "stream",
     "text": [
      "Loaded model and tokenizer for GPT-2\n",
      "[experiment.py] Experiment 1\t [START] 06:20:35.005066\t [END] 06:30:28.662192\n",
      "[experiment.py] Experiment 2\t [START] 06:30:28.662307\t [END] 06:38:12.958766\n",
      "[experiment.py] Experiment 3\t [START] 06:38:12.958909\t [END] 07:25:20.244771\n",
      "[experiment.py] Experiment 4\t [START] 07:25:20.244869\t [END] 08:00:37.201313\n",
      "[experiment.py] Experiment 5\t [START] 08:00:37.201404\t [END] 08:35:04.235850\n",
      "[experiment.py] Experiment 6\t [START] 08:35:04.235951\t [END] 08:49:42.469379\n",
      "[experiment.py] Experiment 7\t [START] 08:49:42.469480\t [END] 09:07:03.211983\n"
     ]
    }
   ],
   "source": [
    "from crossing import gpt2\n",
    "model_fn, model_name = gpt2.get_model_fn(), 'gpt2'\n",
    "\n",
    "experiment.run_experiments('data/sents%d.tsv', 'results/'+model_name+'_%d.tsv', model_fn, n_forms)"
   ]
  },
  {
   "cell_type": "markdown",
   "metadata": {},
   "source": [
    "## lm_1b Experiments"
   ]
  },
  {
   "cell_type": "code",
   "execution_count": null,
   "metadata": {
    "scrolled": true
   },
   "outputs": [
    {
     "name": "stdout",
     "output_type": "stream",
     "text": [
      "Reading vocabulary lm_1b/vocab-2016-09-10.txt\n",
      "Reading graph lm_1b/graph-2016-09-10.pbtxt\n",
      "Creating tensors.\n",
      "Loading, initializing weights lm_1b/ckpt-*\n",
      "Loaded model and vocab for lm_1b.\n",
      "[experiment.py] Experiment 1\t [START] 12:29:17.213485\n",
      "[experiment.py] Experiment 1\t [END] 22:37:38.323635\n",
      "[experiment.py] Experiment 2\t [START] 22:37:38.323706\n",
      "[experiment.py] Experiment 2\t [END] 09:30:03.497042\n",
      "[experiment.py] Experiment 3\t [START] 09:30:03.497115\n"
     ]
    }
   ],
   "source": [
    "from crossing import lm_1b\n",
    "model_fn, model_name = lm_1b.get_model_fn('lm_1b/graph-2016-09-10.pbtxt', 'lm_1b/ckpt-*', 'lm_1b/vocab-2016-09-10.txt'), 'lm1b'\n",
    "\n",
    "experiment.run_experiments('data/small_sents%d.tsv', 'results/'+model_name+'_%d.tsv', model_fn, n_forms)"
   ]
  },
  {
   "cell_type": "markdown",
   "metadata": {},
   "source": [
    "*I did not run with silent=False and I totally should have*"
   ]
  }
 ],
 "metadata": {
  "kernelspec": {
   "display_name": "Python 3",
   "language": "python",
   "name": "python3"
  },
  "language_info": {
   "codemirror_mode": {
    "name": "ipython",
    "version": 3
   },
   "file_extension": ".py",
   "mimetype": "text/x-python",
   "name": "python",
   "nbconvert_exporter": "python",
   "pygments_lexer": "ipython3",
   "version": "3.8.2"
  }
 },
 "nbformat": 4,
 "nbformat_minor": 2
}
